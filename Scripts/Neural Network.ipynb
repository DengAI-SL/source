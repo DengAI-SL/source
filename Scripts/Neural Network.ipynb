{
 "cells": [
  {
   "cell_type": "code",
   "execution_count": 1,
   "metadata": {},
   "outputs": [],
   "source": [
    "import numpy as np\n",
    "from sklearn.model_selection import KFold, train_test_split, GridSearchCV\n",
    "from sklearn.metrics import confusion_matrix, mean_squared_error, r2_score\n",
    "from sklearn.datasets import load_iris, load_digits, load_boston"
   ]
  },
  {
   "cell_type": "code",
   "execution_count": 2,
   "metadata": {},
   "outputs": [],
   "source": [
    "rng = np.random.RandomState(31337)"
   ]
  },
  {
   "cell_type": "code",
   "execution_count": 3,
   "metadata": {},
   "outputs": [],
   "source": [
    "import pandas as pd\n",
    "\n",
    "dengue2013 = pd.read_csv(\"../Dengue/dengueCases2013.csv\")\n",
    "dengue2013 = dengue2013.sort_values('moh_id')\n",
    "dengue2014 = pd.read_csv(\"../Dengue/dengueCases2014.csv\")\n",
    "dengue2014 = dengue2014.sort_values('moh_id')"
   ]
  },
  {
   "cell_type": "code",
   "execution_count": 4,
   "metadata": {},
   "outputs": [],
   "source": [
    "deng2013npX = np.stack([dengue2013['1'],dengue2013['2'],dengue2013['3']]).T\n",
    "deng2013npY = np.stack([dengue2013['4']]).T\n",
    "for i in range(2,50):\n",
    "    temp1 = np.stack([dengue2013[str(i+3)]])\n",
    "    temp2 = np.stack([dengue2013[str(i)],dengue2013[str(i+1)],dengue2013[str(i+2)]])\n",
    "    deng2013npY = np.concatenate((deng2013npY,temp1.T))\n",
    "    deng2013npX = np.concatenate((deng2013npX,temp2.T))\n"
   ]
  },
  {
   "cell_type": "code",
   "execution_count": 5,
   "metadata": {},
   "outputs": [],
   "source": [
    "# X_train, X_test, y_train, y_test = train_test_split(deng2013npX, deng2013npY, test_size=0.33, random_state=rng)"
   ]
  },
  {
   "cell_type": "code",
   "execution_count": 13,
   "metadata": {},
   "outputs": [],
   "source": [
    "import pickle\n",
    "import xgboost as xgb\n",
    "from math import sqrt"
   ]
  },
  {
   "cell_type": "code",
   "execution_count": 10,
   "metadata": {},
   "outputs": [],
   "source": [
    "xgb_model = xgb.XGBRegressor().fit(deng2013npX, deng2013npY)\n",
    "# predictions = xgb_model.predict(X_test)\n",
    "# actuals = y_test\n",
    "# print(mean_squared_error(actuals, np.rint(predictions)))\n",
    "# print(r2_score(actuals,np.rint(predictions)))"
   ]
  },
  {
   "cell_type": "code",
   "execution_count": 11,
   "metadata": {},
   "outputs": [],
   "source": [
    "deng2014npX = np.stack([dengue2014['1'],dengue2014['2'],dengue2014['3']]).T\n",
    "deng2014npY = np.stack([dengue2014['4']]).T\n",
    "for i in range(2,50):\n",
    "    temp3 = np.stack([dengue2014[str(i+3)]])\n",
    "    temp4 = np.stack([dengue2014[str(i)],dengue2014[str(i+1)],dengue2014[str(i+2)]])\n",
    "    deng2014npY = np.concatenate((deng2014npY,temp3.T))\n",
    "    deng2014npX = np.concatenate((deng2014npX,temp4.T))"
   ]
  },
  {
   "cell_type": "code",
   "execution_count": 14,
   "metadata": {},
   "outputs": [
    {
     "name": "stdout",
     "output_type": "stream",
     "text": [
      "3.925035529653189\n",
      "0.7107559280030642\n"
     ]
    }
   ],
   "source": [
    "predictions14 = xgb_model.predict(deng2014npX)\n",
    "actuals14 = deng2014npY\n",
    "print(sqrt(mean_squared_error(actuals14, predictions14)))\n",
    "print(r2_score(actuals14,predictions14))"
   ]
  },
  {
   "cell_type": "code",
   "execution_count": 15,
   "metadata": {},
   "outputs": [],
   "source": [
    "def pdtonumpy(pdset):\n",
    "    X = np.stack([pdset['1'],pdset['2'],pdset['3']]).T\n",
    "    y = np.stack([pdset['4']]).T\n",
    "    for i in range(2,50):\n",
    "        tempY = np.stack([pdset[str(i+3)]])\n",
    "        tempX = np.stack([pdset[str(i)],pdset[str(i+1)],pdset[str(i+2)]])\n",
    "        y = np.concatenate((y,tempY.T))\n",
    "        X = np.concatenate((X,tempX.T))\n",
    "    return X,y"
   ]
  },
  {
   "cell_type": "code",
   "execution_count": 16,
   "metadata": {},
   "outputs": [],
   "source": [
    "def rowtonumpy(row):\n",
    "    X = np.stack([[row['1'],row['2'],row['3']]])\n",
    "    y = np.stack([row['4']])\n",
    "    for i in range(2,50):\n",
    "        tempRY = np.stack([row[str(i+3)]])\n",
    "        tempRX = np.stack([[row[str(i)],row[str(i+1)],row[str(i+2)]]])\n",
    "        y = np.concatenate((y,tempRY))\n",
    "        X = np.concatenate((X,tempRX))\n",
    "    return X,y"
   ]
  },
  {
   "cell_type": "code",
   "execution_count": 17,
   "metadata": {},
   "outputs": [
    {
     "name": "stdout",
     "output_type": "stream",
     "text": [
      "48.306993957575024\n",
      "0.13848999114508165\n"
     ]
    }
   ],
   "source": [
    "panadura13 = dengue2013.loc[dengue2013.moh=='Panadura']\n",
    "panadura13X,panadura13y = pdtonumpy(panadura13)\n",
    "predictions13panadura = xgb_model.predict(panadura13X)\n",
    "actuals13panadura = panadura13y\n",
    "print(mean_squared_error(actuals13panadura, predictions13panadura))\n",
    "print(r2_score(actuals13panadura,predictions13panadura))"
   ]
  },
  {
   "cell_type": "code",
   "execution_count": 19,
   "metadata": {},
   "outputs": [],
   "source": [
    "def calcErrorForMOH(pdset,model):\n",
    "    # Creating an empty Dataframe with column names only\n",
    "    results = pd.DataFrame(columns=['MOH', 'MSE', 'R2'])\n",
    "    for index, row in pdset.iterrows():\n",
    "        X,y = rowtonumpy(row)\n",
    "        predictionsMOH = xgb_model.predict(X)\n",
    "        actualsMOH = y\n",
    "        mse = mean_squared_error(actualsMOH, predictionsMOH)\n",
    "        r2 = r2_score(actualsMOH,predictionsMOH)\n",
    "        results = results.append({\"MOH\":row['moh'],'MSE': mse, 'R2': r2}, ignore_index=True)\n",
    "    return results"
   ]
  },
  {
   "cell_type": "code",
   "execution_count": 20,
   "metadata": {},
   "outputs": [],
   "source": [
    "results = calcErrorForMOH(dengue2014,xgb_model)"
   ]
  },
  {
   "cell_type": "code",
   "execution_count": 21,
   "metadata": {},
   "outputs": [],
   "source": [
    "%matplotlib inline\n",
    "import matplotlib.pyplot as plt\n",
    "plt.style.use('seaborn-whitegrid')\n",
    "import numpy as np"
   ]
  },
  {
   "cell_type": "code",
   "execution_count": 22,
   "metadata": {},
   "outputs": [],
   "source": [
    "plt.rcParams['figure.figsize'] = [10, 5]"
   ]
  },
  {
   "cell_type": "code",
   "execution_count": 23,
   "metadata": {},
   "outputs": [
    {
     "data": {
      "text/plain": [
       "<matplotlib.axes._subplots.AxesSubplot at 0x7f84afffdb00>"
      ]
     },
     "execution_count": 23,
     "metadata": {},
     "output_type": "execute_result"
    },
    {
     "data": {
      "image/png": "[encoded data removed]",
      "text/plain": [
       "<Figure size 720x360 with 1 Axes>"
      ]
     },
     "metadata": {},
     "output_type": "display_data"
    }
   ],
   "source": [
    "results.plot(x='MOH',y='MSE', kind='line')"
   ]
  },
  {
   "cell_type": "code",
   "execution_count": null,
   "metadata": {},
   "outputs": [],
   "source": []
  }
 ],
 "metadata": {
  "kernelspec": {
   "display_name": "Python 3",
   "language": "python",
   "name": "python3"
  },
  "language_info": {
   "codemirror_mode": {
    "name": "ipython",
    "version": 3
   },
   "file_extension": ".py",
   "mimetype": "text/x-python",
   "name": "python",
   "nbconvert_exporter": "python",
   "pygments_lexer": "ipython3",
   "version": "3.6.8"
  }
 },
 "nbformat": 4,
 "nbformat_minor": 2
}
